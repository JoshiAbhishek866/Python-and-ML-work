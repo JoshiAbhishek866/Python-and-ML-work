{
  "nbformat": 4,
  "nbformat_minor": 0,
  "metadata": {
    "colab": {
      "provenance": [],
      "authorship_tag": "ABX9TyNFKB5uHXZfl2HBCjZGlCqw"
    },
    "kernelspec": {
      "name": "python3",
      "display_name": "Python 3"
    },
    "language_info": {
      "name": "python"
    }
  },
  "cells": [
    {
      "cell_type": "code",
      "execution_count": 1,
      "metadata": {
        "id": "TjthLN1UIaKO"
      },
      "outputs": [],
      "source": [
        "import openpyxl\n",
        "import numpy as np\n",
        "import pandas as pd\n",
        "from sklearn.svm import LinearSVC\n",
        "from sklearn.metrics import confusion_matrix, f1_score, precision_score, recall_score\n",
        "from sklearn.model_selection import train_test_split\n",
        "from sklearn.feature_extraction.text import CountVectorizer, TfidfVectorizer"
      ]
    },
    {
      "cell_type": "code",
      "source": [
        "from bs4 import BeautifulSoup\n",
        "import re\n",
        "import nltk\n",
        "\n",
        "def cleanString(myString):\n",
        "\n",
        "    # convert text to lowercase\n",
        "    myString = myString.lower()\n",
        "\n",
        "    # convert URLs to 'httpaddr'\n",
        "    myString = re.sub(r'(http|https)://[^\\s]*', r' httpaddr ', myString)\n",
        "\n",
        "    # convert email addresses to 'emailaddr'\n",
        "    myString = re.sub(r'[^\\s]+@[^\\s]+[.][^\\s]+', r' emailaddr ', myString)\n",
        "\n",
        "    # convert all hyperlinks to 'linktag'\n",
        "    soup = BeautifulSoup(myString, 'html.parser')\n",
        "    myString = soup.get_text()\n",
        "    numberLink = len(soup.find_all('a'))\n",
        "    numberImg = len(soup.find_all('img'))\n",
        "    myString = myString + numberLink * \" linktag \" + numberImg * \" imgtag \"\n",
        "\n",
        "    # convert numbers to 'number'\n",
        "    myString = re.sub(r'[0-9]+', r' number ', myString)\n",
        "\n",
        "    # convert $, ! and ? to proper words\n",
        "    myString = re.sub(r'[$]', r' dollar ', myString)\n",
        "    myString = re.sub(r'[!]', r' exclammark ', myString)\n",
        "    myString = re.sub(r'[?]', r' questmark ', myString)\n",
        "\n",
        "    # convert other punctuation to whitespace\n",
        "    myString = re.sub(r'([^\\w\\s]+)|([_-]+)', r' ', myString)\n",
        "\n",
        "    # convert newlines and blanklines to special strings and extra whitespace to single\n",
        "    myString = re.sub(r'\\n', r' newline ', myString)\n",
        "    myString = re.sub(r'\\n\\n', r' blankline ', myString)\n",
        "    myString = re.sub(r'\\s+', r' ', myString)\n",
        "    myString = myString.strip(' ')\n",
        "\n",
        "    # perform word stemming\n",
        "    myStringWords = myString.split(' ')\n",
        "    stemmer = nltk.stem.snowball.SnowballStemmer('english')\n",
        "    stemWords = [stemmer.stem(word) for word in myStringWords]\n",
        "    myString = ' '.join(stemWords)\n",
        "\n",
        "    return myString"
      ],
      "metadata": {
        "id": "bvLx-VGmIghi"
      },
      "execution_count": 2,
      "outputs": []
    },
    {
      "cell_type": "code",
      "execution_count": 3,
      "metadata": {
        "colab": {
          "base_uri": "https://localhost:8080/",
          "height": 73
        },
        "id": "1xUGlFxr-5hP",
        "outputId": "f95c95a8-5b6f-4981-c5bd-d869b23891b5"
      },
      "outputs": [
        {
          "output_type": "display_data",
          "data": {
            "text/plain": [
              "<IPython.core.display.HTML object>"
            ],
            "text/html": [
              "\n",
              "     <input type=\"file\" id=\"files-bfd2461e-63db-4cc5-85fb-29c00aad9f80\" name=\"files[]\" multiple disabled\n",
              "        style=\"border:none\" />\n",
              "     <output id=\"result-bfd2461e-63db-4cc5-85fb-29c00aad9f80\">\n",
              "      Upload widget is only available when the cell has been executed in the\n",
              "      current browser session. Please rerun this cell to enable.\n",
              "      </output>\n",
              "      <script>// Copyright 2017 Google LLC\n",
              "//\n",
              "// Licensed under the Apache License, Version 2.0 (the \"License\");\n",
              "// you may not use this file except in compliance with the License.\n",
              "// You may obtain a copy of the License at\n",
              "//\n",
              "//      http://www.apache.org/licenses/LICENSE-2.0\n",
              "//\n",
              "// Unless required by applicable law or agreed to in writing, software\n",
              "// distributed under the License is distributed on an \"AS IS\" BASIS,\n",
              "// WITHOUT WARRANTIES OR CONDITIONS OF ANY KIND, either express or implied.\n",
              "// See the License for the specific language governing permissions and\n",
              "// limitations under the License.\n",
              "\n",
              "/**\n",
              " * @fileoverview Helpers for google.colab Python module.\n",
              " */\n",
              "(function(scope) {\n",
              "function span(text, styleAttributes = {}) {\n",
              "  const element = document.createElement('span');\n",
              "  element.textContent = text;\n",
              "  for (const key of Object.keys(styleAttributes)) {\n",
              "    element.style[key] = styleAttributes[key];\n",
              "  }\n",
              "  return element;\n",
              "}\n",
              "\n",
              "// Max number of bytes which will be uploaded at a time.\n",
              "const MAX_PAYLOAD_SIZE = 100 * 1024;\n",
              "\n",
              "function _uploadFiles(inputId, outputId) {\n",
              "  const steps = uploadFilesStep(inputId, outputId);\n",
              "  const outputElement = document.getElementById(outputId);\n",
              "  // Cache steps on the outputElement to make it available for the next call\n",
              "  // to uploadFilesContinue from Python.\n",
              "  outputElement.steps = steps;\n",
              "\n",
              "  return _uploadFilesContinue(outputId);\n",
              "}\n",
              "\n",
              "// This is roughly an async generator (not supported in the browser yet),\n",
              "// where there are multiple asynchronous steps and the Python side is going\n",
              "// to poll for completion of each step.\n",
              "// This uses a Promise to block the python side on completion of each step,\n",
              "// then passes the result of the previous step as the input to the next step.\n",
              "function _uploadFilesContinue(outputId) {\n",
              "  const outputElement = document.getElementById(outputId);\n",
              "  const steps = outputElement.steps;\n",
              "\n",
              "  const next = steps.next(outputElement.lastPromiseValue);\n",
              "  return Promise.resolve(next.value.promise).then((value) => {\n",
              "    // Cache the last promise value to make it available to the next\n",
              "    // step of the generator.\n",
              "    outputElement.lastPromiseValue = value;\n",
              "    return next.value.response;\n",
              "  });\n",
              "}\n",
              "\n",
              "/**\n",
              " * Generator function which is called between each async step of the upload\n",
              " * process.\n",
              " * @param {string} inputId Element ID of the input file picker element.\n",
              " * @param {string} outputId Element ID of the output display.\n",
              " * @return {!Iterable<!Object>} Iterable of next steps.\n",
              " */\n",
              "function* uploadFilesStep(inputId, outputId) {\n",
              "  const inputElement = document.getElementById(inputId);\n",
              "  inputElement.disabled = false;\n",
              "\n",
              "  const outputElement = document.getElementById(outputId);\n",
              "  outputElement.innerHTML = '';\n",
              "\n",
              "  const pickedPromise = new Promise((resolve) => {\n",
              "    inputElement.addEventListener('change', (e) => {\n",
              "      resolve(e.target.files);\n",
              "    });\n",
              "  });\n",
              "\n",
              "  const cancel = document.createElement('button');\n",
              "  inputElement.parentElement.appendChild(cancel);\n",
              "  cancel.textContent = 'Cancel upload';\n",
              "  const cancelPromise = new Promise((resolve) => {\n",
              "    cancel.onclick = () => {\n",
              "      resolve(null);\n",
              "    };\n",
              "  });\n",
              "\n",
              "  // Wait for the user to pick the files.\n",
              "  const files = yield {\n",
              "    promise: Promise.race([pickedPromise, cancelPromise]),\n",
              "    response: {\n",
              "      action: 'starting',\n",
              "    }\n",
              "  };\n",
              "\n",
              "  cancel.remove();\n",
              "\n",
              "  // Disable the input element since further picks are not allowed.\n",
              "  inputElement.disabled = true;\n",
              "\n",
              "  if (!files) {\n",
              "    return {\n",
              "      response: {\n",
              "        action: 'complete',\n",
              "      }\n",
              "    };\n",
              "  }\n",
              "\n",
              "  for (const file of files) {\n",
              "    const li = document.createElement('li');\n",
              "    li.append(span(file.name, {fontWeight: 'bold'}));\n",
              "    li.append(span(\n",
              "        `(${file.type || 'n/a'}) - ${file.size} bytes, ` +\n",
              "        `last modified: ${\n",
              "            file.lastModifiedDate ? file.lastModifiedDate.toLocaleDateString() :\n",
              "                                    'n/a'} - `));\n",
              "    const percent = span('0% done');\n",
              "    li.appendChild(percent);\n",
              "\n",
              "    outputElement.appendChild(li);\n",
              "\n",
              "    const fileDataPromise = new Promise((resolve) => {\n",
              "      const reader = new FileReader();\n",
              "      reader.onload = (e) => {\n",
              "        resolve(e.target.result);\n",
              "      };\n",
              "      reader.readAsArrayBuffer(file);\n",
              "    });\n",
              "    // Wait for the data to be ready.\n",
              "    let fileData = yield {\n",
              "      promise: fileDataPromise,\n",
              "      response: {\n",
              "        action: 'continue',\n",
              "      }\n",
              "    };\n",
              "\n",
              "    // Use a chunked sending to avoid message size limits. See b/62115660.\n",
              "    let position = 0;\n",
              "    do {\n",
              "      const length = Math.min(fileData.byteLength - position, MAX_PAYLOAD_SIZE);\n",
              "      const chunk = new Uint8Array(fileData, position, length);\n",
              "      position += length;\n",
              "\n",
              "      const base64 = btoa(String.fromCharCode.apply(null, chunk));\n",
              "      yield {\n",
              "        response: {\n",
              "          action: 'append',\n",
              "          file: file.name,\n",
              "          data: base64,\n",
              "        },\n",
              "      };\n",
              "\n",
              "      let percentDone = fileData.byteLength === 0 ?\n",
              "          100 :\n",
              "          Math.round((position / fileData.byteLength) * 100);\n",
              "      percent.textContent = `${percentDone}% done`;\n",
              "\n",
              "    } while (position < fileData.byteLength);\n",
              "  }\n",
              "\n",
              "  // All done.\n",
              "  yield {\n",
              "    response: {\n",
              "      action: 'complete',\n",
              "    }\n",
              "  };\n",
              "}\n",
              "\n",
              "scope.google = scope.google || {};\n",
              "scope.google.colab = scope.google.colab || {};\n",
              "scope.google.colab._files = {\n",
              "  _uploadFiles,\n",
              "  _uploadFilesContinue,\n",
              "};\n",
              "})(self);\n",
              "</script> "
            ]
          },
          "metadata": {}
        },
        {
          "output_type": "stream",
          "name": "stdout",
          "text": [
            "Saving Phishing_Email.csv to Phishing_Email.csv\n"
          ]
        }
      ],
      "source": [
        "#load the data\n",
        "from google.colab import files\n",
        "uploaded = files.upload( )"
      ]
    },
    {
      "cell_type": "code",
      "source": [
        "def store():\n",
        "\n",
        "    workBookOld = openpyxl.load_workbook('Phishing_Email.csv')\n",
        "    dataSheetOld = workBookOld['Data set']\n",
        "\n",
        "    xData = []\n",
        "    yData = []\n",
        "\n",
        "    rows = dataSheetOld.max_row\n",
        "\n",
        "    for i in range(2, rows+1):\n",
        "\n",
        "        if (str(dataSheetOld.cell(row = i, column = 2).value) != 'None'):\n",
        "            xData.append(str(cleanString(dataSheetOld.cell(row = i, column = 1).value)))\n",
        "            if (str(dataSheetOld.cell(row = i, column = 2).value) == \"1\"):\n",
        "                yData.append(1)\n",
        "            else:\n",
        "                yData.append(0)\n",
        "    xTrain, xTest, yTrain, yTest = train_test_split(xData, yData, test_size=0.2, random_state=0)\n",
        "    return xTrain, xTest, yTrain, yTest"
      ],
      "metadata": {
        "id": "Aaw_6DSRLJJb"
      },
      "execution_count": 14,
      "outputs": []
    },
    {
      "cell_type": "code",
      "source": [
        "def calcFScore(xTest, yTest, model, vectorizer):\n",
        "\n",
        "    xTestMatrix = vectorizer.transform(xTest)\n",
        "    yTestMatrix = np.asarray(yTest)\n",
        "\n",
        "    result = model.predict(xTestMatrix)\n",
        "    matrix = confusion_matrix(yTestMatrix, result)\n",
        "\n",
        "    fScore = f1_score(yTestMatrix, result, pos_label = 0)\n",
        "    precision = precision_score(yTestMatrix, result, pos_label=0)\n",
        "    recall = recall_score(yTestMatrix, result, pos_label=0)\n",
        "    return fScore, precision, recall, matrix"
      ],
      "metadata": {
        "id": "lcXIvf0lLMZ8"
      },
      "execution_count": 15,
      "outputs": []
    },
    {
      "cell_type": "code",
      "source": [
        "def predict(emailBody, model, vectorizer):\n",
        "\n",
        "    featureMatrix = vectorizer.transform([cleanString(emailBody)])\n",
        "    result = model.predict(featureMatrix)\n",
        "    print(\"Predicting...\")\n",
        "\n",
        "    if (1 in result):\n",
        "        return \"Spam\"\n",
        "    else:\n",
        "        return \"Not Spam\"\n",
        "\n",
        "model = LinearSVC(class_weight='balanced')"
      ],
      "metadata": {
        "id": "089LQmo1LOxS"
      },
      "execution_count": 16,
      "outputs": []
    },
    {
      "cell_type": "code",
      "source": [
        "import numpy as np\n",
        "import pandas as pd\n",
        "from sklearn.feature_extraction.text import TfidfVectorizer\n",
        "from sklearn.metrics import accuracy_score, f1_score, precision_score, recall_score, confusion_matrix\n",
        "from sklearn.svm import SVC\n",
        "from sklearn.model_selection import train_test_split\n",
        "\n",
        "# Read the CSV file\n",
        "data = pd.read_csv('Phishing_Email.csv')\n",
        "print(data)"
      ],
      "metadata": {
        "colab": {
          "base_uri": "https://localhost:8080/",
          "height": 0
        },
        "id": "ip9mXRA3LTZv",
        "outputId": "af02ec42-52d2-4bf7-c3ab-283e177339ed"
      },
      "execution_count": 24,
      "outputs": [
        {
          "output_type": "stream",
          "name": "stdout",
          "text": [
            "       Unnamed: 0                                         Email Text  \\\n",
            "0               0  re : 6 . 1100 , disc : uniformitarianism , re ...   \n",
            "1               1  the other side of * galicismos * * galicismo *...   \n",
            "2               2  re : equistar deal tickets are you still avail...   \n",
            "3               3  \\nHello I am your hot lil horny toy.\\n    I am...   \n",
            "4               4  software at incredibly low prices ( 86 % lower...   \n",
            "...           ...                                                ...   \n",
            "18645       18646  date a lonely housewife always wanted to date ...   \n",
            "18646       18647  request submitted : access request for anita ....   \n",
            "18647       18648  re : important - prc mtg hi dorn & john , as y...   \n",
            "18648       18649  press clippings - letter on californian utilit...   \n",
            "18649       18650                                              empty   \n",
            "\n",
            "           Email Type  \n",
            "0          Safe Email  \n",
            "1          Safe Email  \n",
            "2          Safe Email  \n",
            "3      Phishing Email  \n",
            "4      Phishing Email  \n",
            "...               ...  \n",
            "18645  Phishing Email  \n",
            "18646      Safe Email  \n",
            "18647      Safe Email  \n",
            "18648      Safe Email  \n",
            "18649  Phishing Email  \n",
            "\n",
            "[18650 rows x 3 columns]\n"
          ]
        }
      ]
    },
    {
      "cell_type": "code",
      "source": [
        "\n",
        "# Print column names\n",
        "print(data.columns)\n",
        "\n",
        "# Create training data\n",
        "X = data['Email Text']  # Features (input data)\n",
        "y = data['Email Type']  # Target (output labels)\n",
        "print(X)\n",
        "print(y)"
      ],
      "metadata": {
        "colab": {
          "base_uri": "https://localhost:8080/",
          "height": 0
        },
        "id": "bfTZEndPUnhQ",
        "outputId": "abbd7074-8b13-4f5c-c554-e55854823169"
      },
      "execution_count": 27,
      "outputs": [
        {
          "output_type": "stream",
          "name": "stdout",
          "text": [
            "Index(['Unnamed: 0', 'Email Text', 'Email Type'], dtype='object')\n",
            "0        re : 6 . 1100 , disc : uniformitarianism , re ...\n",
            "1        the other side of * galicismos * * galicismo *...\n",
            "2        re : equistar deal tickets are you still avail...\n",
            "3        \\nHello I am your hot lil horny toy.\\n    I am...\n",
            "4        software at incredibly low prices ( 86 % lower...\n",
            "                               ...                        \n",
            "18645    date a lonely housewife always wanted to date ...\n",
            "18646    request submitted : access request for anita ....\n",
            "18647    re : important - prc mtg hi dorn & john , as y...\n",
            "18648    press clippings - letter on californian utilit...\n",
            "18649                                                empty\n",
            "Name: Email Text, Length: 18650, dtype: object\n",
            "0            Safe Email\n",
            "1            Safe Email\n",
            "2            Safe Email\n",
            "3        Phishing Email\n",
            "4        Phishing Email\n",
            "              ...      \n",
            "18645    Phishing Email\n",
            "18646        Safe Email\n",
            "18647        Safe Email\n",
            "18648        Safe Email\n",
            "18649    Phishing Email\n",
            "Name: Email Type, Length: 18650, dtype: object\n"
          ]
        }
      ]
    },
    {
      "cell_type": "code",
      "source": [
        "df=pd.read_csv('Phishing_Email.csv')"
      ],
      "metadata": {
        "id": "YAmltXP3X-WZ"
      },
      "execution_count": 29,
      "outputs": []
    },
    {
      "cell_type": "code",
      "source": [
        "#Print the shape (get the numbers of columns and rows)\n",
        "df.shape"
      ],
      "metadata": {
        "colab": {
          "base_uri": "https://localhost:8080/",
          "height": 0
        },
        "id": "Kdshs7EvYHO0",
        "outputId": "c79404b3-f5bb-4de2-a1da-5f1b7d5d60d5"
      },
      "execution_count": 30,
      "outputs": [
        {
          "output_type": "execute_result",
          "data": {
            "text/plain": [
              "(18650, 3)"
            ]
          },
          "metadata": {},
          "execution_count": 30
        }
      ]
    },
    {
      "cell_type": "code",
      "source": [
        "#Get the columns name of the data set\n",
        "df.columns"
      ],
      "metadata": {
        "colab": {
          "base_uri": "https://localhost:8080/",
          "height": 0
        },
        "id": "1XLguOjGYKW1",
        "outputId": "5a0b899e-d2b6-4536-b3a3-631b9e1ca0c8"
      },
      "execution_count": 31,
      "outputs": [
        {
          "output_type": "execute_result",
          "data": {
            "text/plain": [
              "Index(['Unnamed: 0', 'Email Text', 'Email Type'], dtype='object')"
            ]
          },
          "metadata": {},
          "execution_count": 31
        }
      ]
    },
    {
      "cell_type": "code",
      "source": [
        "#check for duplicates and remove them\n",
        "df.drop_duplicates(inplace=True)"
      ],
      "metadata": {
        "id": "mYLqeGXoYOxV"
      },
      "execution_count": 32,
      "outputs": []
    },
    {
      "cell_type": "code",
      "source": [
        "#show the new shape (number of rows and columns)\n",
        "df.shape"
      ],
      "metadata": {
        "colab": {
          "base_uri": "https://localhost:8080/",
          "height": 0
        },
        "id": "7t6gxUIPYQlS",
        "outputId": "9d56d258-d2cf-486d-84cc-9109a1757c0d"
      },
      "execution_count": 33,
      "outputs": [
        {
          "output_type": "execute_result",
          "data": {
            "text/plain": [
              "(18650, 3)"
            ]
          },
          "metadata": {},
          "execution_count": 33
        }
      ]
    },
    {
      "cell_type": "code",
      "source": [
        "#show the number of missing (NAN,NaN,na) data for each column\n",
        "df.isnull().sum()"
      ],
      "metadata": {
        "colab": {
          "base_uri": "https://localhost:8080/",
          "height": 0
        },
        "id": "OieuD3CGYU9u",
        "outputId": "d8f57c8f-39ba-417e-daa1-f3880abe5c4e"
      },
      "execution_count": 43,
      "outputs": [
        {
          "output_type": "execute_result",
          "data": {
            "text/plain": [
              "Unnamed: 0    0\n",
              "Email Text    0\n",
              "Email Type    0\n",
              "dtype: int64"
            ]
          },
          "metadata": {},
          "execution_count": 43
        }
      ]
    },
    {
      "cell_type": "code",
      "source": [
        "import pandas as pd\n",
        "\n",
        "# Assuming you have a DataFrame named 'df' with missing values (NaN, na)\n",
        "# For demonstration, I'm creating a sample DataFrame 'df'\n",
        "\n",
        "df = pd.DataFrame(data)\n",
        "\n",
        "# Show the number of missing (NaN, na) data for each column\n",
        "missing_counts = df.isnull().sum()\n",
        "print(\"Number of missing data for each column:\")\n",
        "print(missing_counts)\n",
        "\n",
        "# Replace missing (NaN, na) values in each column with an empty string\n",
        "df.fillna('', inplace=True)\n",
        "\n",
        "# Display the DataFrame with missing values replaced by empty strings\n",
        "print(\"\\nDataFrame with missing values replaced by empty strings:\")\n",
        "print(df)\n"
      ],
      "metadata": {
        "colab": {
          "base_uri": "https://localhost:8080/",
          "height": 0
        },
        "id": "fgEwptduZotC",
        "outputId": "1b24d019-c3a9-4b7b-89f2-5d4d8c5ffada"
      },
      "execution_count": 35,
      "outputs": [
        {
          "output_type": "stream",
          "name": "stdout",
          "text": [
            "Number of missing data for each column:\n",
            "Unnamed: 0     0\n",
            "Email Text    16\n",
            "Email Type     0\n",
            "dtype: int64\n",
            "\n",
            "DataFrame with missing values replaced by empty strings:\n",
            "       Unnamed: 0                                         Email Text  \\\n",
            "0               0  re : 6 . 1100 , disc : uniformitarianism , re ...   \n",
            "1               1  the other side of * galicismos * * galicismo *...   \n",
            "2               2  re : equistar deal tickets are you still avail...   \n",
            "3               3  \\nHello I am your hot lil horny toy.\\n    I am...   \n",
            "4               4  software at incredibly low prices ( 86 % lower...   \n",
            "...           ...                                                ...   \n",
            "18645       18646  date a lonely housewife always wanted to date ...   \n",
            "18646       18647  request submitted : access request for anita ....   \n",
            "18647       18648  re : important - prc mtg hi dorn & john , as y...   \n",
            "18648       18649  press clippings - letter on californian utilit...   \n",
            "18649       18650                                              empty   \n",
            "\n",
            "           Email Type  \n",
            "0          Safe Email  \n",
            "1          Safe Email  \n",
            "2          Safe Email  \n",
            "3      Phishing Email  \n",
            "4      Phishing Email  \n",
            "...               ...  \n",
            "18645  Phishing Email  \n",
            "18646      Safe Email  \n",
            "18647      Safe Email  \n",
            "18648      Safe Email  \n",
            "18649  Phishing Email  \n",
            "\n",
            "[18650 rows x 3 columns]\n"
          ]
        }
      ]
    },
    {
      "cell_type": "code",
      "source": [
        "#download the stopwords package\n",
        "nltk.download('stopwords')"
      ],
      "metadata": {
        "colab": {
          "base_uri": "https://localhost:8080/",
          "height": 0
        },
        "id": "yxuNNyr2ZxB2",
        "outputId": "9ca584fd-5edc-4b84-de29-d26326f910aa"
      },
      "execution_count": 36,
      "outputs": [
        {
          "output_type": "stream",
          "name": "stderr",
          "text": [
            "[nltk_data] Downloading package stopwords to /root/nltk_data...\n",
            "[nltk_data]   Unzipping corpora/stopwords.zip.\n"
          ]
        },
        {
          "output_type": "execute_result",
          "data": {
            "text/plain": [
              "True"
            ]
          },
          "metadata": {},
          "execution_count": 36
        }
      ]
    },
    {
      "cell_type": "code",
      "source": [
        "def process_text(text):\n",
        "  #1 remove puntuation\n",
        "  #2 remove stopwords\n",
        "  #3 return  a list of clean text words\n",
        "\n",
        "  #1\n",
        "  nopunc = [char for char in text if char not in string.puntuation]\n",
        "  nopunc =' '.join(nopunc)\n",
        "\n",
        "  #2\n",
        "  clean_words = [word for word in nopunc.split() if word.lower() not in stopwords.words('english')]\n",
        "\n",
        "  #3\n",
        "  return clean_words"
      ],
      "metadata": {
        "id": "2fqjOmsXZxVc"
      },
      "execution_count": 37,
      "outputs": []
    },
    {
      "cell_type": "code",
      "source": [
        "import string\n",
        "\n",
        "def process_text(text):\n",
        "    # Convert text to string if it's not already\n",
        "    if not isinstance(text, str):\n",
        "        text = str(text)\n",
        "\n",
        "    # Remove punctuation\n",
        "    nopunc = [char for char in text if char not in string.punctuation]\n",
        "    nopunc = ''.join(nopunc)\n",
        "\n",
        "    # Split text into tokens\n",
        "    tokens = nopunc.split()\n",
        "\n",
        "    return tokens\n",
        "\n"
      ],
      "metadata": {
        "id": "Au2PDhdZZ3L3"
      },
      "execution_count": 39,
      "outputs": []
    },
    {
      "cell_type": "code",
      "source": [
        "#Example\n",
        "\n",
        "message4= 'hello world hello hello world play'\n",
        "message5= 'test test test test one hello'\n",
        "print(message4)\n",
        "print()\n",
        "\n",
        "#convert the text to a matrix of token counts\n",
        "from sklearn.feature_extraction.text import CountVectorizer\n",
        "bow4 =  CountVectorizer(analyzer=process_text).fit_transform([[message4],[message5]])\n",
        "print(bow4)\n",
        "print()\n",
        "\n",
        "print(bow4.shape)"
      ],
      "metadata": {
        "colab": {
          "base_uri": "https://localhost:8080/",
          "height": 0
        },
        "id": "XQ2qAk32aCXe",
        "outputId": "929523ce-c3c2-4d68-f0e8-0158a2c06289"
      },
      "execution_count": 40,
      "outputs": [
        {
          "output_type": "stream",
          "name": "stdout",
          "text": [
            "hello world hello hello world play\n",
            "\n",
            "  (0, 0)\t3\n",
            "  (0, 4)\t2\n",
            "  (0, 2)\t1\n",
            "  (1, 0)\t1\n",
            "  (1, 3)\t4\n",
            "  (1, 1)\t1\n",
            "\n",
            "(2, 5)\n"
          ]
        }
      ]
    },
    {
      "cell_type": "code",
      "source": [
        "vectorizer = TfidfVectorizer(stop_words='english', max_df=75)\n",
        "X_train, X_test, y_train, y_test = train_test_split(X, y, test_size=0.2, random_state=42)\n",
        "\n",
        "X_train_matrix = vectorizer.fit_transform(X_train)\n",
        "X_test_matrix = vectorizer.transform(X_test)\n",
        "\n",
        "# Training SVM classifier\n",
        "model = SVC(kernel='linear')\n",
        "model.fit(X_train_matrix, y_train)\n",
        "\n",
        "# Calculate predictions for the test data\n",
        "y_test_pred = model.predict(X_test_matrix)\n",
        "\n",
        "# Calculate accuracy, F1-score, precision, recall, and confusion matrix\n",
        "accuracy = accuracy_score(y_test, y_test_pred)\n",
        "fScore = f1_score(y_test, y_test_pred, average='weighted')\n",
        "precision = precision_score(y_test, y_test_pred, average='weighted')\n",
        "recall = recall_score(y_test, y_test_pred, average='weighted')\n",
        "matrix = confusion_matrix(y_test, y_test_pred)\n",
        "\n",
        "print(\"Accuracy:\", accuracy)\n",
        "print(\"F1-Score:\", fScore)\n",
        "print(\"Precision:\", precision)\n",
        "print(\"Recall:\", recall)\n",
        "print(\"Confusion Matrix:\\n\", matrix)\n"
      ],
      "metadata": {
        "colab": {
          "base_uri": "https://localhost:8080/",
          "height": 0
        },
        "id": "HtIA-sspVTAw",
        "outputId": "a88e70a9-1b63-4f8f-f252-cb60c7008524"
      },
      "execution_count": 46,
      "outputs": [
        {
          "output_type": "stream",
          "name": "stdout",
          "text": [
            "Accuracy: 0.9351206434316354\n",
            "F1-Score: 0.9342564749636727\n",
            "Precision: 0.9378496749939872\n",
            "Recall: 0.9351206434316354\n",
            "Confusion Matrix:\n",
            " [[1249  208]\n",
            " [  34 2239]]\n"
          ]
        }
      ]
    }
  ]
}