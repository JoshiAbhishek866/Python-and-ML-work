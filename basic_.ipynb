{
  "nbformat": 4,
  "nbformat_minor": 0,
  "metadata": {
    "colab": {
      "provenance": [],
      "authorship_tag": "ABX9TyOaO6nO5YkynkScFAs7q+ms"
    },
    "kernelspec": {
      "name": "python3",
      "display_name": "Python 3"
    },
    "language_info": {
      "name": "python"
    }
  },
  "cells": [
    {
      "cell_type": "code",
      "execution_count": null,
      "metadata": {
        "id": "moyp4UlscJ1q",
        "colab": {
          "base_uri": "https://localhost:8080/"
        },
        "outputId": "68b521c2-b0e5-4c46-fa5a-5b1616e26565"
      },
      "outputs": [
        {
          "output_type": "stream",
          "name": "stdout",
          "text": [
            "5\n",
            "it is prime\n"
          ]
        }
      ],
      "source": [
        "a=int(input());\n",
        "count=int(0);\n",
        "for i in range(2,int(a/2)):\n",
        " if(a==2):\n",
        "  print(\"it is prime\")\n",
        " if(a%i==0):\n",
        "  count+=1;\n",
        "if(count<=2):\n",
        " print(\"it is prime\")\n",
        "else:\n",
        " print(\"it is not prime\")\n",
        "\n"
      ]
    },
    {
      "cell_type": "code",
      "source": [
        "a=int(10);\n",
        "count=int(0);\n",
        "for i in range(1,10):\n",
        " if(a%i=0):\n",
        "  count+=1;\n",
        "  print(i,\"is prime number\")\n",
        "\n"
      ],
      "metadata": {
        "colab": {
          "base_uri": "https://localhost:8080/"
        },
        "id": "6AdjTFm3kJ5W",
        "outputId": "a396278b-f92e-4a0d-b5b2-8a718c2d8ac5"
      },
      "execution_count": null,
      "outputs": [
        {
          "output_type": "stream",
          "name": "stdout",
          "text": [
            "1 is prime number\n",
            "2 is prime number\n",
            "5 is prime number\n"
          ]
        }
      ]
    },
    {
      "cell_type": "code",
      "source": [
        "a=int(input());\n",
        "b=int(input());\n",
        "print(\"enter number for addition\")\n",
        "print(a+b)\n",
        "print(\"enter number for multiplication\")\n",
        "print(a*b)\n",
        "print(\"enter number for division\")\n",
        "print(a/b)\n",
        "print(\"enter number for subtraction\")\n",
        "print(a-b)"
      ],
      "metadata": {
        "colab": {
          "base_uri": "https://localhost:8080/"
        },
        "id": "9zVuPl4FoWtu",
        "outputId": "c5e3e593-3325-4ccb-909c-bf50e25fddf6"
      },
      "execution_count": null,
      "outputs": [
        {
          "output_type": "stream",
          "name": "stdout",
          "text": [
            "2\n",
            "10\n",
            "enter number for addition\n",
            "12\n",
            "enter number for multiplication\n",
            "20\n",
            "enter number for division\n",
            "0.2\n",
            "enter number for subtraction\n",
            "-8\n"
          ]
        }
      ]
    },
    {
      "cell_type": "code",
      "source": [
        "a=int(input());\n",
        "b=int(input());\n",
        "temp=int(0);\n",
        "temp=a;\n",
        "a=b;\n",
        "b=temp;\n",
        "print(\"swaped numbers are:\",a,b)"
      ],
      "metadata": {
        "colab": {
          "base_uri": "https://localhost:8080/"
        },
        "id": "AQbIbk8cxBQP",
        "outputId": "69de371d-cf68-4eb2-91a4-fbcd6c890692"
      },
      "execution_count": null,
      "outputs": [
        {
          "output_type": "stream",
          "name": "stdout",
          "text": [
            "5\n",
            "8\n",
            "swaped numbers are: 8 5\n"
          ]
        }
      ]
    },
    {
      "cell_type": "code",
      "source": [
        "import random\n",
        "random.randint(0,1000)"
      ],
      "metadata": {
        "colab": {
          "base_uri": "https://localhost:8080/"
        },
        "id": "3jHcjKbqxf6O",
        "outputId": "9e4e554d-91c4-42fd-a0cc-32523fbdb04c"
      },
      "execution_count": null,
      "outputs": [
        {
          "output_type": "execute_result",
          "data": {
            "text/plain": [
              "150"
            ]
          },
          "metadata": {},
          "execution_count": 36
        }
      ]
    },
    {
      "cell_type": "code",
      "source": [
        "a=int(input());\n",
        "if(a>0):\n",
        " print(\"positive\")\n",
        "elif(a<0):\n",
        " print(\"negative\")\n",
        "else:\n",
        " print(\"it is zero\")"
      ],
      "metadata": {
        "colab": {
          "base_uri": "https://localhost:8080/"
        },
        "id": "WQUNRzUzyUU3",
        "outputId": "372d553a-970e-40c2-dfbb-880f076ed250"
      },
      "execution_count": null,
      "outputs": [
        {
          "output_type": "stream",
          "name": "stdout",
          "text": [
            "-45\n",
            "negative\n"
          ]
        }
      ]
    },
    {
      "cell_type": "code",
      "source": [
        "a=int(input());\n",
        "if(a%2==0):\n",
        " print(a,\"it is even\")\n",
        "else:\n",
        " print(a,\"it is odd\")"
      ],
      "metadata": {
        "colab": {
          "base_uri": "https://localhost:8080/"
        },
        "id": "N86UoH2AzSSF",
        "outputId": "0c4c6222-9df7-4f63-cd2e-dc8fdff5611f"
      },
      "execution_count": null,
      "outputs": [
        {
          "output_type": "stream",
          "name": "stdout",
          "text": [
            "7\n",
            "7 it is odd\n"
          ]
        }
      ]
    },
    {
      "cell_type": "code",
      "source": [
        "a=str(input());\n",
        "if(a=='a'or a=='e' or a=='i' or a=='o' or a=='u'):\n",
        " print(\"it ie having vowel\")\n",
        "else:\n",
        " print(\"it is not having vowel\")"
      ],
      "metadata": {
        "colab": {
          "base_uri": "https://localhost:8080/"
        },
        "id": "nvjG_W_MzvMC",
        "outputId": "4fb5253c-97d4-412c-b173-0f9fab1fa8a3"
      },
      "execution_count": null,
      "outputs": [
        {
          "output_type": "stream",
          "name": "stdout",
          "text": [
            "d\n",
            "it is not having vowel\n"
          ]
        }
      ]
    }
  ]
}