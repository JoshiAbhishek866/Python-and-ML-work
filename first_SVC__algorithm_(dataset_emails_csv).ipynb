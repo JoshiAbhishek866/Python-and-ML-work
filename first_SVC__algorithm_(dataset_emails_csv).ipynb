{
  "nbformat": 4,
  "nbformat_minor": 0,
  "metadata": {
    "colab": {
      "provenance": [],
      "authorship_tag": "ABX9TyOcSGYvvjEtX2JQECBynFu8"
    },
    "kernelspec": {
      "name": "python3",
      "display_name": "Python 3"
    },
    "language_info": {
      "name": "python"
    }
  },
  "cells": [
    {
      "cell_type": "code",
      "execution_count": 1,
      "metadata": {
        "id": "5ZFuKthgMLVS"
      },
      "outputs": [],
      "source": [
        "import openpyxl\n",
        "import numpy as np\n",
        "import pandas as pd\n",
        "from sklearn.svm import LinearSVC\n",
        "from sklearn.metrics import confusion_matrix, f1_score, precision_score, recall_score\n",
        "from sklearn.model_selection import train_test_split\n",
        "from sklearn.feature_extraction.text import CountVectorizer, TfidfVectorizer"
      ]
    },
    {
      "cell_type": "code",
      "source": [
        "from bs4 import BeautifulSoup\n",
        "import re\n",
        "import nltk\n",
        "\n",
        "def cleanString(myString):\n",
        "\n",
        "    # convert text to lowercase\n",
        "    myString = myString.lower()\n",
        "\n",
        "    # convert URLs to 'httpaddr'\n",
        "    myString = re.sub(r'(http|https)://[^\\s]*', r' httpaddr ', myString)\n",
        "\n",
        "    # convert email addresses to 'emailaddr'\n",
        "    myString = re.sub(r'[^\\s]+@[^\\s]+[.][^\\s]+', r' emailaddr ', myString)\n",
        "\n",
        "    # convert all hyperlinks to 'linktag'\n",
        "    soup = BeautifulSoup(myString, 'html.parser')\n",
        "    myString = soup.get_text()\n",
        "    numberLink = len(soup.find_all('a'))\n",
        "    numberImg = len(soup.find_all('img'))\n",
        "    myString = myString + numberLink * \" linktag \" + numberImg * \" imgtag \"\n",
        "\n",
        "    # convert numbers to 'number'\n",
        "    myString = re.sub(r'[0-9]+', r' number ', myString)\n",
        "\n",
        "    # convert $, ! and ? to proper words\n",
        "    myString = re.sub(r'[$]', r' dollar ', myString)\n",
        "    myString = re.sub(r'[!]', r' exclammark ', myString)\n",
        "    myString = re.sub(r'[?]', r' questmark ', myString)\n",
        "\n",
        "    # convert other punctuation to whitespace\n",
        "    myString = re.sub(r'([^\\w\\s]+)|([_-]+)', r' ', myString)\n",
        "\n",
        "    # convert newlines and blanklines to special strings and extra whitespace to single\n",
        "    myString = re.sub(r'\\n', r' newline ', myString)\n",
        "    myString = re.sub(r'\\n\\n', r' blankline ', myString)\n",
        "    myString = re.sub(r'\\s+', r' ', myString)\n",
        "    myString = myString.strip(' ')\n",
        "\n",
        "    # perform word stemming\n",
        "    myStringWords = myString.split(' ')\n",
        "    stemmer = nltk.stem.snowball.SnowballStemmer('english')\n",
        "    stemWords = [stemmer.stem(word) for word in myStringWords]\n",
        "    myString = ' '.join(stemWords)\n",
        "\n",
        "    return myString"
      ],
      "metadata": {
        "id": "yu5C5eckRRRe"
      },
      "execution_count": 2,
      "outputs": []
    },
    {
      "cell_type": "code",
      "source": [
        "#load the data\n",
        "from google.colab import files\n",
        "uploaded = files.upload( )"
      ],
      "metadata": {
        "colab": {
          "base_uri": "https://localhost:8080/",
          "height": 73
        },
        "id": "RSqG3--NRWPM",
        "outputId": "fddde5fa-9546-435a-fe3c-8bd823e314a5"
      },
      "execution_count": 3,
      "outputs": [
        {
          "output_type": "display_data",
          "data": {
            "text/plain": [
              "<IPython.core.display.HTML object>"
            ],
            "text/html": [
              "\n",
              "     <input type=\"file\" id=\"files-5de647d3-7150-4566-85c1-7727cf8f483c\" name=\"files[]\" multiple disabled\n",
              "        style=\"border:none\" />\n",
              "     <output id=\"result-5de647d3-7150-4566-85c1-7727cf8f483c\">\n",
              "      Upload widget is only available when the cell has been executed in the\n",
              "      current browser session. Please rerun this cell to enable.\n",
              "      </output>\n",
              "      <script>// Copyright 2017 Google LLC\n",
              "//\n",
              "// Licensed under the Apache License, Version 2.0 (the \"License\");\n",
              "// you may not use this file except in compliance with the License.\n",
              "// You may obtain a copy of the License at\n",
              "//\n",
              "//      http://www.apache.org/licenses/LICENSE-2.0\n",
              "//\n",
              "// Unless required by applicable law or agreed to in writing, software\n",
              "// distributed under the License is distributed on an \"AS IS\" BASIS,\n",
              "// WITHOUT WARRANTIES OR CONDITIONS OF ANY KIND, either express or implied.\n",
              "// See the License for the specific language governing permissions and\n",
              "// limitations under the License.\n",
              "\n",
              "/**\n",
              " * @fileoverview Helpers for google.colab Python module.\n",
              " */\n",
              "(function(scope) {\n",
              "function span(text, styleAttributes = {}) {\n",
              "  const element = document.createElement('span');\n",
              "  element.textContent = text;\n",
              "  for (const key of Object.keys(styleAttributes)) {\n",
              "    element.style[key] = styleAttributes[key];\n",
              "  }\n",
              "  return element;\n",
              "}\n",
              "\n",
              "// Max number of bytes which will be uploaded at a time.\n",
              "const MAX_PAYLOAD_SIZE = 100 * 1024;\n",
              "\n",
              "function _uploadFiles(inputId, outputId) {\n",
              "  const steps = uploadFilesStep(inputId, outputId);\n",
              "  const outputElement = document.getElementById(outputId);\n",
              "  // Cache steps on the outputElement to make it available for the next call\n",
              "  // to uploadFilesContinue from Python.\n",
              "  outputElement.steps = steps;\n",
              "\n",
              "  return _uploadFilesContinue(outputId);\n",
              "}\n",
              "\n",
              "// This is roughly an async generator (not supported in the browser yet),\n",
              "// where there are multiple asynchronous steps and the Python side is going\n",
              "// to poll for completion of each step.\n",
              "// This uses a Promise to block the python side on completion of each step,\n",
              "// then passes the result of the previous step as the input to the next step.\n",
              "function _uploadFilesContinue(outputId) {\n",
              "  const outputElement = document.getElementById(outputId);\n",
              "  const steps = outputElement.steps;\n",
              "\n",
              "  const next = steps.next(outputElement.lastPromiseValue);\n",
              "  return Promise.resolve(next.value.promise).then((value) => {\n",
              "    // Cache the last promise value to make it available to the next\n",
              "    // step of the generator.\n",
              "    outputElement.lastPromiseValue = value;\n",
              "    return next.value.response;\n",
              "  });\n",
              "}\n",
              "\n",
              "/**\n",
              " * Generator function which is called between each async step of the upload\n",
              " * process.\n",
              " * @param {string} inputId Element ID of the input file picker element.\n",
              " * @param {string} outputId Element ID of the output display.\n",
              " * @return {!Iterable<!Object>} Iterable of next steps.\n",
              " */\n",
              "function* uploadFilesStep(inputId, outputId) {\n",
              "  const inputElement = document.getElementById(inputId);\n",
              "  inputElement.disabled = false;\n",
              "\n",
              "  const outputElement = document.getElementById(outputId);\n",
              "  outputElement.innerHTML = '';\n",
              "\n",
              "  const pickedPromise = new Promise((resolve) => {\n",
              "    inputElement.addEventListener('change', (e) => {\n",
              "      resolve(e.target.files);\n",
              "    });\n",
              "  });\n",
              "\n",
              "  const cancel = document.createElement('button');\n",
              "  inputElement.parentElement.appendChild(cancel);\n",
              "  cancel.textContent = 'Cancel upload';\n",
              "  const cancelPromise = new Promise((resolve) => {\n",
              "    cancel.onclick = () => {\n",
              "      resolve(null);\n",
              "    };\n",
              "  });\n",
              "\n",
              "  // Wait for the user to pick the files.\n",
              "  const files = yield {\n",
              "    promise: Promise.race([pickedPromise, cancelPromise]),\n",
              "    response: {\n",
              "      action: 'starting',\n",
              "    }\n",
              "  };\n",
              "\n",
              "  cancel.remove();\n",
              "\n",
              "  // Disable the input element since further picks are not allowed.\n",
              "  inputElement.disabled = true;\n",
              "\n",
              "  if (!files) {\n",
              "    return {\n",
              "      response: {\n",
              "        action: 'complete',\n",
              "      }\n",
              "    };\n",
              "  }\n",
              "\n",
              "  for (const file of files) {\n",
              "    const li = document.createElement('li');\n",
              "    li.append(span(file.name, {fontWeight: 'bold'}));\n",
              "    li.append(span(\n",
              "        `(${file.type || 'n/a'}) - ${file.size} bytes, ` +\n",
              "        `last modified: ${\n",
              "            file.lastModifiedDate ? file.lastModifiedDate.toLocaleDateString() :\n",
              "                                    'n/a'} - `));\n",
              "    const percent = span('0% done');\n",
              "    li.appendChild(percent);\n",
              "\n",
              "    outputElement.appendChild(li);\n",
              "\n",
              "    const fileDataPromise = new Promise((resolve) => {\n",
              "      const reader = new FileReader();\n",
              "      reader.onload = (e) => {\n",
              "        resolve(e.target.result);\n",
              "      };\n",
              "      reader.readAsArrayBuffer(file);\n",
              "    });\n",
              "    // Wait for the data to be ready.\n",
              "    let fileData = yield {\n",
              "      promise: fileDataPromise,\n",
              "      response: {\n",
              "        action: 'continue',\n",
              "      }\n",
              "    };\n",
              "\n",
              "    // Use a chunked sending to avoid message size limits. See b/62115660.\n",
              "    let position = 0;\n",
              "    do {\n",
              "      const length = Math.min(fileData.byteLength - position, MAX_PAYLOAD_SIZE);\n",
              "      const chunk = new Uint8Array(fileData, position, length);\n",
              "      position += length;\n",
              "\n",
              "      const base64 = btoa(String.fromCharCode.apply(null, chunk));\n",
              "      yield {\n",
              "        response: {\n",
              "          action: 'append',\n",
              "          file: file.name,\n",
              "          data: base64,\n",
              "        },\n",
              "      };\n",
              "\n",
              "      let percentDone = fileData.byteLength === 0 ?\n",
              "          100 :\n",
              "          Math.round((position / fileData.byteLength) * 100);\n",
              "      percent.textContent = `${percentDone}% done`;\n",
              "\n",
              "    } while (position < fileData.byteLength);\n",
              "  }\n",
              "\n",
              "  // All done.\n",
              "  yield {\n",
              "    response: {\n",
              "      action: 'complete',\n",
              "    }\n",
              "  };\n",
              "}\n",
              "\n",
              "scope.google = scope.google || {};\n",
              "scope.google.colab = scope.google.colab || {};\n",
              "scope.google.colab._files = {\n",
              "  _uploadFiles,\n",
              "  _uploadFilesContinue,\n",
              "};\n",
              "})(self);\n",
              "</script> "
            ]
          },
          "metadata": {}
        },
        {
          "output_type": "stream",
          "name": "stdout",
          "text": [
            "Saving mail_data.csv to mail_data.csv\n"
          ]
        }
      ]
    },
    {
      "cell_type": "code",
      "source": [
        "df=pd.read_csv('mail_data.csv')"
      ],
      "metadata": {
        "id": "TKESj1c4Xeeh"
      },
      "execution_count": 16,
      "outputs": []
    },
    {
      "cell_type": "code",
      "source": [
        "df.shape"
      ],
      "metadata": {
        "colab": {
          "base_uri": "https://localhost:8080/",
          "height": 0
        },
        "id": "sO-moYDaXtmj",
        "outputId": "1fbc408c-615c-487d-ba6d-ef559209b90f"
      },
      "execution_count": 17,
      "outputs": [
        {
          "output_type": "execute_result",
          "data": {
            "text/plain": [
              "(5572, 2)"
            ]
          },
          "metadata": {},
          "execution_count": 17
        }
      ]
    },
    {
      "cell_type": "code",
      "source": [
        "df.columns"
      ],
      "metadata": {
        "colab": {
          "base_uri": "https://localhost:8080/",
          "height": 0
        },
        "id": "Hj4UGRw7Xz0M",
        "outputId": "2e34a533-c43d-40d4-c939-764eb4901e0d"
      },
      "execution_count": 18,
      "outputs": [
        {
          "output_type": "execute_result",
          "data": {
            "text/plain": [
              "Index(['Category', 'Message'], dtype='object')"
            ]
          },
          "metadata": {},
          "execution_count": 18
        }
      ]
    },
    {
      "cell_type": "code",
      "source": [
        "#show the number of missing (NAN,NaN,na) data for each column\n",
        "df.isnull().sum()"
      ],
      "metadata": {
        "colab": {
          "base_uri": "https://localhost:8080/",
          "height": 0
        },
        "id": "U8a5BMB-X3kX",
        "outputId": "028e4e34-1b70-4368-dd99-c590753baaca"
      },
      "execution_count": 22,
      "outputs": [
        {
          "output_type": "execute_result",
          "data": {
            "text/plain": [
              "Category    0\n",
              "Message     0\n",
              "dtype: int64"
            ]
          },
          "metadata": {},
          "execution_count": 22
        }
      ]
    },
    {
      "cell_type": "code",
      "source": [
        "def store():\n",
        "\n",
        "    workBookOld = openpyxl.load_workbook('mail_data.csv')\n",
        "    dataSheetOld = workBookOld['Data set']\n",
        "\n",
        "    xData = []\n",
        "    yData = []\n",
        "\n",
        "    rows = dataSheetOld.max_row\n",
        "\n",
        "    for i in range(2, rows+1):\n",
        "\n",
        "        if (str(dataSheetOld.cell(row = i, column = 2).value) != 'None'):\n",
        "            xData.append(str(cleanString(dataSheetOld.cell(row = i, column = 1).value)))\n",
        "            if (str(dataSheetOld.cell(row = i, column = 2).value) == \"1\"):\n",
        "                yData.append(1)\n",
        "            else:\n",
        "                yData.append(0)\n",
        "    xTrain, xTest, yTrain, yTest = train_test_split(xData, yData, test_size=0.2, random_state=0)\n",
        "    return xTrain, xTest, yTrain, yTest"
      ],
      "metadata": {
        "id": "Lo_rCT_LRpkS"
      },
      "execution_count": 8,
      "outputs": []
    },
    {
      "cell_type": "code",
      "source": [
        "def calcFScore(xTest, yTest, model, vectorizer):\n",
        "\n",
        "    xTestMatrix = vectorizer.transform(xTest)\n",
        "    yTestMatrix = np.asarray(yTest)\n",
        "\n",
        "    result = model.predict(xTestMatrix)\n",
        "    matrix = confusion_matrix(yTestMatrix, result)\n",
        "\n",
        "    fScore = f1_score(yTestMatrix, result, pos_label = 0)\n",
        "    precision = precision_score(yTestMatrix, result, pos_label=0)\n",
        "    recall = recall_score(yTestMatrix, result, pos_label=0)\n",
        "    return fScore, precision, recall, matrix"
      ],
      "metadata": {
        "id": "YxKPlBsORsTV"
      },
      "execution_count": 9,
      "outputs": []
    },
    {
      "cell_type": "code",
      "source": [
        "def predict(emailBody, model, vectorizer):\n",
        "\n",
        "    featureMatrix = vectorizer.transform([cleanString(emailBody)])\n",
        "    result = model.predict(featureMatrix)\n",
        "    print(\"Predicting...\")\n",
        "\n",
        "    if (1 in result):\n",
        "        return \"Spam\"\n",
        "    else:\n",
        "        return \"Not Spam\"\n",
        "\n",
        "model = LinearSVC(class_weight='balanced')"
      ],
      "metadata": {
        "id": "LfMZWX2FRxny"
      },
      "execution_count": 10,
      "outputs": []
    },
    {
      "cell_type": "code",
      "source": [
        "import pandas as pd\n",
        "\n",
        "# Read the CSV file into a DataFrame\n",
        "data = pd.read_csv('mail_data.csv')\n",
        "\n",
        "# Convert the DataFrame to an Excel file\n",
        "data = data.to_excel('output_data.xlsx', index=False)\n",
        "\n",
        "data = pd.read_excel('output_data.xlsx')"
      ],
      "metadata": {
        "id": "lrGXJ6JEfT8f"
      },
      "execution_count": 2,
      "outputs": []
    },
    {
      "cell_type": "code",
      "source": [
        "import pandas as pd\n",
        "\n",
        "def store():\n",
        "    # Assuming you have a CSV file named 'Phishing_Email.csv' with columns 'text' and 'label'\n",
        "    data = pd.read_excel('output_data.xlsx')\n",
        "\n",
        "    # Create training data\n",
        "    X = data['Message']  # Features (input data)\n",
        "    y = data['Category']  # Target (output labels)\n",
        "\n",
        "    # Split the data into training and testing sets\n",
        "    X_train, X_test, y_train, y_test = train_test_split(X, y, test_size=0.2, random_state=42)\n",
        "\n",
        "    return X_train, X_test, y_train, y_test\n",
        "\n",
        "# Now you can call the store() function to get the training and testing data\n",
        "xTrain, xTest, yTrain, yTest = store()\n"
      ],
      "metadata": {
        "id": "FaMrKSZDi-zZ"
      },
      "execution_count": 6,
      "outputs": []
    },
    {
      "cell_type": "code",
      "source": [
        "import numpy as np\n",
        "import pandas as pd\n",
        "from sklearn.feature_extraction.text import TfidfVectorizer\n",
        "from sklearn.metrics import accuracy_score, f1_score, precision_score, recall_score, confusion_matrix\n",
        "from sklearn.svm import SVC\n",
        "from sklearn.model_selection import train_test_split\n",
        "\n",
        "# Assuming you have the function `store()` to get the dataset\n",
        "# Create training data\n",
        "xTrain, xTest, yTrain, yTest = store()\n",
        "vectorizer = TfidfVectorizer(stop_words='english', max_df=75)\n",
        "yTrainMatrix = np.asarray(yTrain)\n",
        "xTrainMatrix = vectorizer.fit_transform(xTrain)"
      ],
      "metadata": {
        "id": "vy3eXZwIR0Z5"
      },
      "execution_count": 7,
      "outputs": []
    },
    {
      "cell_type": "code",
      "source": [
        "# The code by itself randomly splits the given dataset into an 80-20 ratio for training and testing respectively\n",
        "# Training SVM classifier\n",
        "model = SVC(kernel='linear')  # Create the SVM model (you can choose the kernel you want)\n",
        "model.fit(xTrainMatrix, yTrainMatrix)\n",
        "\n",
        "# Calculate predictions for the test data\n",
        "xTestMatrix = vectorizer.transform(xTest)\n",
        "yTestPred = model.predict(xTestMatrix)\n",
        "\n",
        "# Calculate accuracy, F1-score, precision, recall, and confusion matrix\n",
        "accuracy = accuracy_score(yTest, yTestPred)\n",
        "fScore = f1_score(yTest, yTestPred, average='weighted')\n",
        "precision = precision_score(yTest, yTestPred, average='weighted')\n",
        "recall = recall_score(yTest, yTestPred, average='weighted')\n",
        "matrix = confusion_matrix(yTest, yTestPred)\n",
        "\n",
        "print(\"Accuracy:\", accuracy)\n",
        "print(\"F1-Score:\", fScore)\n",
        "print(\"Precision:\", precision)\n",
        "print(\"Recall:\", recall)\n",
        "print(\"Confusion Matrix:\\n\", matrix)\n",
        "\n",
        "# Convert the dataset to an Excel file\n",
        "data = {'xTrain': xTrain, 'xTest': xTest, 'yTrain': yTrain, 'yTest': yTest}\n",
        "df = pd.DataFrame(data)\n",
        "df.to_excel('Phishing_Email_dataset.xlsx', index=False)\n"
      ],
      "metadata": {
        "colab": {
          "base_uri": "https://localhost:8080/",
          "height": 0
        },
        "id": "1PhJJ2HTeLf0",
        "outputId": "01d18bb3-2f9e-4056-a6a4-b394037fd4d5"
      },
      "execution_count": 8,
      "outputs": [
        {
          "output_type": "stream",
          "name": "stdout",
          "text": [
            "Accuracy: 0.9865470852017937\n",
            "F1-Score: 0.986285222665064\n",
            "Precision: 0.986628085872971\n",
            "Recall: 0.9865470852017937\n",
            "Confusion Matrix:\n",
            " [[965   1]\n",
            " [ 14 135]]\n"
          ]
        }
      ]
    }
  ]
}